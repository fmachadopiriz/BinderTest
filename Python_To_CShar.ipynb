{
 "cells": [
  {
   "cell_type": "markdown",
   "id": "1fb4d768",
   "metadata": {
    "language_info": {
     "name": "polyglot-notebook"
    },
    "polyglot_notebook": {
     "kernelName": "csharp"
    }
   },
   "source": [
    "<img alt=\"UCU\" src=\"https://www.ucu.edu.uy/plantillas/images/logo_ucu.svg\"\n",
    "width=\"150\"/>\n",
    "\n",
    "# Universidad Católica del Uruguay\n",
    "## Facultad de Ingeniería y Tecnologías\n",
    "### Programación II\n",
    "\n",
    "\n",
    "# Ejercicios de práctica de Python a C#"
   ]
  },
  {
   "cell_type": "code",
   "execution_count": null,
   "id": "89cece1a48f79882",
   "metadata": {
    "language_info": {
     "name": "polyglot-notebook"
    },
    "polyglot_notebook": {
     "kernelName": "csharp"
    }
   },
   "outputs": [],
   "source": [
    "Console.WriteLine(\"Hola, Mundo!\");"
   ]
  }
 ],
 "metadata": {
  "kernelspec": {
   "display_name": ".NET (C#)",
   "language": "C#",
   "name": ".net-csharp"
  },
  "language_info": {
   "name": "polyglot-notebook"
  },
  "polyglot_notebook": {
   "kernelInfo": {
    "defaultKernelName": "csharp",
    "items": [
     {
      "aliases": [],
      "languageName": "csharp",
      "name": "csharp"
     }
    ]
   }
  }
 },
 "nbformat": 4,
 "nbformat_minor": 5
}
