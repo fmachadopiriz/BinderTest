{
 "cells": [
  {
   "cell_type": "markdown",
   "id": "1fb4d768",
   "metadata": {
    "language_info": {
     "name": "polyglot-notebook"
    },
    "polyglot_notebook": {
     "kernelName": "csharp"
    }
   },
   "source": [
    "<!-- <img alt=\"UCU\" src=\"https://www.ucu.edu.uy/plantillas/images/logo_ucu.svg\"\n",
    "width=\"150\"/> -->\n",
    "![](https://www.ucu.edu.uy/plantillas/images/logo_ucu.svg)\n",
    "\n",
    "# Universidad Católica del Uruguay\n",
    "## Facultad de Ingeniería y Tecnologías\n",
    "### Programación II\n",
    "\n",
    "\n",
    "# Python a C#"
   ]
  },
  {
   "cell_type": "markdown",
   "id": "46dfb674",
   "metadata": {},
   "source": [
    "## Consigna\n",
    "\n",
    "A continuación verás varios ejemplos de código en Python y, debajo, un espacio para escrbir el código equivalente en C#. Para ejecutar el código que has escrito, oprime `Ctrl + Enter` tanto en Mac como en Windows.\n",
    "\n",
    "Los dos primeros ejemplos te lo damos resueltos, completa tú los demás."
   ]
  },
  {
   "cell_type": "markdown",
   "id": "85d31534",
   "metadata": {},
   "source": [
    "### Ejemplo 1\n",
    "\n",
    "El siguiente código imprime `Hello World!` en la consola:\n",
    "\n",
    "```python\n",
    "print(\"Hello World!\")\n",
    "```\n",
    "\n",
    "Escribe a continuación el código equivalente en C#. Busca en la [Ayuda de C# para programadores Python](https://github.com/ucudal/PII_Ayuda_Csharp_Python) el equivalente al `print()` de Python.\n",
    "\n",
    "Recuerda oprimir `Ctrl + Enter` para ejecutar el código que has escrito."
   ]
  },
  {
   "cell_type": "code",
   "execution_count": 9,
   "metadata": {
    "language_info": {
     "name": "polyglot-notebook"
    },
    "polyglot_notebook": {
     "kernelName": "csharp"
    }
   },
   "outputs": [
    {
     "name": "stdout",
     "output_type": "stream",
     "text": [
      "Hello World!\n"
     ]
    }
   ],
   "source": [
    "Console.WriteLine(\"Hello World!\");"
   ]
  },
  {
   "cell_type": "markdown",
   "id": "3eb0732a",
   "metadata": {},
   "source": [
    "### Ejemplo 2\n",
    "\n",
    "El siguiente código asigna una cadena de texto a una variable llamada `text`; luego imprime el contenido en esa variable `text` en la consola:\n",
    "\n",
    "```python\n",
    "text=\"Esto es un texto\"\n",
    "print(text)\n",
    "```\n",
    "\n",
    "Escribe a continuación el código equivalente en C#. Ten en cuenta que en C# vas a tener que declarar el tipo de la variable `text`, que será `string`.\n",
    "\n",
    "Recuerda oprimir `Ctrl + Enter` para ejecutar el código que has escrito."
   ]
  },
  {
   "cell_type": "code",
   "execution_count": 12,
   "metadata": {
    "language_info": {
     "name": "polyglot-notebook"
    },
    "polyglot_notebook": {
     "kernelName": "csharp"
    }
   },
   "outputs": [
    {
     "name": "stdout",
     "output_type": "stream",
     "text": [
      "Esto es un texto\n"
     ]
    }
   ],
   "source": [
    "string text = \"Esto es un texto\";\n",
    "Console.WriteLine(text);"
   ]
  }
 ],
 "metadata": {
  "kernelspec": {
   "display_name": ".NET (C#)",
   "language": "C#",
   "name": ".net-csharp"
  },
  "language_info": {
   "codemirror_mode": {
    "name": "ipython",
    "version": 3
   },
   "file_extension": ".py",
   "mimetype": "text/x-python",
   "name": "polyglot-notebook",
   "nbconvert_exporter": "python",
   "pygments_lexer": "ipython3",
   "version": "3.9.6"
  },
  "polyglot_notebook": {
   "kernelInfo": {
    "defaultKernelName": "csharp",
    "items": [
     {
      "aliases": [],
      "languageName": "csharp",
      "name": "csharp"
     }
    ]
   }
  }
 },
 "nbformat": 4,
 "nbformat_minor": 5
}
