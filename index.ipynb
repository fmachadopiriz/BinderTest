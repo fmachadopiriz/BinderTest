{
 "cells": [
  {
   "cell_type": "markdown",
   "id": "1fb4d768",
   "metadata": {
    "language_info": {
     "name": "polyglot-notebook"
    },
    "polyglot_notebook": {
     "kernelName": "csharp"
    }
   },
   "source": [
    "<!-- <img alt=\"UCU\" src=\"https://www.ucu.edu.uy/plantillas/images/logo_ucu.svg\"\n",
    "width=\"150\"/> -->\n",
    "![](https://www.ucu.edu.uy/plantillas/images/logo_ucu.svg)\n",
    "\n",
    "# Universidad Católica del Uruguay\n",
    "## Facultad de Ingeniería y Tecnologías\n",
    "### Programación II\n",
    "\n",
    "\n",
    "# Python a C#"
   ]
  },
  {
   "cell_type": "markdown",
   "id": "46dfb674",
   "metadata": {},
   "source": [
    "## Consigna\n",
    "\n",
    "A continuación verás varios ejemplos de código en Python y, debajo, un espacio para escrbir el código equivalente en C#. Para ejecutar el código que has escrito, oprime `Ctrl + Enter` tanto en Mac como en Windows.\n",
    "\n",
    "El primer ejemplo te lo damos resuelto, completa tú los demás."
   ]
  },
  {
   "cell_type": "markdown",
   "id": "85d31534",
   "metadata": {},
   "source": [
    "### Ejemplo 1. Imprimir texto en la consola\n",
    "\n",
    "```python\n",
    "printf(\"Hello World!\")\n",
    "```"
   ]
  },
  {
   "cell_type": "code",
   "execution_count": null,
   "metadata": {
    "language_info": {
     "name": "polyglot-notebook"
    },
    "polyglot_notebook": {
     "kernelName": "csharp"
    },
    "vscode": {
     "languageId": "python"
    }
   },
   "outputs": [],
   "source": [
    "print(\"Hello World!\")"
   ]
  },
  {
   "cell_type": "code",
   "execution_count": 8,
   "metadata": {
    "language_info": {
     "name": "polyglot-notebook"
    },
    "polyglot_notebook": {
     "kernelName": "csharp"
    }
   },
   "outputs": [
    {
     "name": "stdout",
     "output_type": "stream",
     "text": [
      "Hello World!\n"
     ]
    }
   ],
   "source": [
    "Console.WriteLine(\"Hello World!\");"
   ]
  },
  {
   "cell_type": "markdown",
   "id": "82d3e6bc",
   "metadata": {},
   "source": []
  },
  {
   "cell_type": "code",
   "execution_count": null,
   "id": "89cece1a48f79882",
   "metadata": {
    "language_info": {
     "name": "polyglot-notebook"
    },
    "polyglot_notebook": {
     "kernelName": "csharp"
    },
    "vscode": {
     "languageId": "python"
    }
   },
   "outputs": [],
   "source": [
    "Console.WriteLine(\"Hola, Mundo!\");"
   ]
  },
  {
   "cell_type": "code",
   "execution_count": null,
   "metadata": {
    "language_info": {
     "name": "polyglot-notebook"
    },
    "polyglot_notebook": {
     "kernelName": "csharp"
    },
    "vscode": {
     "languageId": "python"
    }
   },
   "outputs": [],
   "source": [
    "#!connect jupyter --kernel-name python3 --kernel-spec python3"
   ]
  },
  {
   "cell_type": "code",
   "execution_count": null,
   "metadata": {
    "language_info": {
     "name": "polyglot-notebook"
    },
    "polyglot_notebook": {
     "kernelName": "csharp"
    },
    "vscode": {
     "languageId": "python"
    }
   },
   "outputs": [],
   "source": [
    "#!connect jupyter --kernel-name python3 --kernel-spec python3"
   ]
  },
  {
   "cell_type": "code",
   "execution_count": null,
   "metadata": {
    "language_info": {
     "name": "polyglot-notebook"
    },
    "polyglot_notebook": {
     "kernelName": "csharp"
    },
    "vscode": {
     "languageId": "python"
    }
   },
   "outputs": [],
   "source": [
    "#!connect jupyter --kernel-name python3 --kernel-spec python3"
   ]
  }
 ],
 "metadata": {
  "kernelspec": {
   "display_name": ".NET (C#)",
   "language": "C#",
   "name": ".net-csharp"
  },
  "language_info": {
   "codemirror_mode": {
    "name": "ipython",
    "version": 3
   },
   "file_extension": ".py",
   "mimetype": "text/x-python",
   "name": "polyglot-notebook",
   "nbconvert_exporter": "python",
   "pygments_lexer": "ipython3",
   "version": "3.9.6"
  },
  "polyglot_notebook": {
   "kernelInfo": {
    "defaultKernelName": "csharp",
    "items": [
     {
      "aliases": [],
      "languageName": "csharp",
      "name": "csharp"
     }
    ]
   }
  }
 },
 "nbformat": 4,
 "nbformat_minor": 5
}
